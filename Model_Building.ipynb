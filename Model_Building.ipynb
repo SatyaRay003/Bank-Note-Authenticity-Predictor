{
 "cells": [
  {
   "cell_type": "markdown",
   "id": "5c6fec37",
   "metadata": {},
   "source": [
    "<ul style=\"font-family:Times New Roman;font-size:20px;color:  blueviolet\">\n",
    "<h1 align=\"center\">Classification Model Building for UCI Bank Note Authentication Dataset</h1> \n",
    "</ul>\n",
    "\n",
    "---"
   ]
  },
  {
   "cell_type": "markdown",
   "id": "82acc666",
   "metadata": {},
   "source": [
    "<ul style=\"font-family:Times New Roman;font-size:15px;color:  blueviolet\">\n",
    "<h1>Import libraries:</h1> \n",
    "</ul>"
   ]
  },
  {
   "cell_type": "code",
   "execution_count": 1,
   "id": "6e1cd101",
   "metadata": {},
   "outputs": [],
   "source": [
    "import numpy as np\n",
    "import pandas as pd\n",
    "from sklearn.model_selection import train_test_split\n",
    "from sklearn.metrics import accuracy_score, f1_score, recall_score, precision_score, classification_report\n",
    "from sklearn.linear_model import LogisticRegression\n",
    "from sklearn.svm import SVC\n",
    "from sklearn.tree import DecisionTreeClassifier\n",
    "from sklearn.ensemble import RandomForestClassifier\n",
    "from sklearn.ensemble import GradientBoostingClassifier\n",
    "from xgboost import XGBClassifier\n",
    "from sklearn.ensemble import AdaBoostClassifier\n",
    "\n",
    "import warnings\n",
    "warnings.filterwarnings('ignore')"
   ]
  },
  {
   "cell_type": "markdown",
   "id": "b2c14e02",
   "metadata": {},
   "source": [
    "<ul style=\"font-family:Times New Roman;font-size:15px;color:  blueviolet\">\n",
    "<h1>Load the Dataset:</h1> \n",
    "</ul>"
   ]
  },
  {
   "cell_type": "code",
   "execution_count": 2,
   "id": "9b8f0bef",
   "metadata": {},
   "outputs": [],
   "source": [
    "df = pd.read_csv('./Data/BankNote_Authentication.csv')"
   ]
  },
  {
   "cell_type": "code",
   "execution_count": 3,
   "id": "506f2a19",
   "metadata": {},
   "outputs": [],
   "source": [
    "X = df.drop('class', axis=1)\n",
    "y = df['class']"
   ]
  },
  {
   "cell_type": "markdown",
   "id": "d6d267a5",
   "metadata": {},
   "source": [
    "<ul style=\"font-family:Times New Roman;font-size:15px;color:  blueviolet\">\n",
    "<h1>Split the Dataset for Training & Testing:</h1> \n",
    "</ul>"
   ]
  },
  {
   "cell_type": "code",
   "execution_count": 4,
   "id": "05abf48c",
   "metadata": {},
   "outputs": [],
   "source": [
    "X_train, X_test, y_train, y_test = train_test_split(X, y, test_size=0.33, random_state=42)"
   ]
  },
  {
   "cell_type": "markdown",
   "id": "1de5fc2c",
   "metadata": {},
   "source": [
    "<ul style=\"font-family:Times New Roman;font-size:15px;color:  blueviolet\">\n",
    "<h1>Create Model Object for each Classification Algorithm:</h1> \n",
    "</ul>"
   ]
  },
  {
   "cell_type": "code",
   "execution_count": 5,
   "id": "de7c8849",
   "metadata": {},
   "outputs": [],
   "source": [
    "lr_clf = LogisticRegression(random_state=42)\n",
    "svc = SVC(random_state=42)\n",
    "dt_clf =DecisionTreeClassifier(random_state=42)\n",
    "rf_clf = RandomForestClassifier(random_state=42)\n",
    "gb_clf = GradientBoostingClassifier(random_state=42)\n",
    "xgb_clf = XGBClassifier(random_state=42, eval_metric='mlogloss')\n",
    "ada_clf = AdaBoostClassifier(random_state=42)\n",
    "\n",
    "models = [lr_clf, svc, dt_clf, rf_clf, gb_clf, xgb_clf, ada_clf]"
   ]
  },
  {
   "cell_type": "markdown",
   "id": "82ad16c3",
   "metadata": {},
   "source": [
    "<ul style=\"font-family:Times New Roman;font-size:15px;color:  blueviolet\">\n",
    "<h1>Train all the Models:</h1> \n",
    "</ul>"
   ]
  },
  {
   "cell_type": "code",
   "execution_count": 6,
   "id": "3aa51b54",
   "metadata": {},
   "outputs": [],
   "source": [
    "warnings.simplefilter(action='ignore', category=FutureWarning)\n",
    "model_name_list, accuracy_score_list, f1_score_list, recall_score_list, precision_score_list = [], [], [], [], []\n",
    "\n",
    "for model in models:\n",
    "    model_name_list.append(str(model).split('(')[0])\n",
    "    model.fit(X_train, y_train)\n",
    "    y_pred = model.predict(X_test)\n",
    "    accuracy_score_list.append(accuracy_score(y_pred, y_test))\n",
    "    f1_score_list.append(accuracy_score(y_pred, y_test))\n",
    "    recall_score_list.append(accuracy_score(y_pred, y_test))\n",
    "    precision_score_list.append(accuracy_score(y_pred, y_test))"
   ]
  },
  {
   "cell_type": "markdown",
   "id": "0bcf217c",
   "metadata": {},
   "source": [
    "<ul style=\"font-family:Times New Roman;font-size:15px;color:  blueviolet\">\n",
    "<h1>Evaluate the Performance:</h1> \n",
    "</ul>"
   ]
  },
  {
   "cell_type": "code",
   "execution_count": 7,
   "id": "789ba84c",
   "metadata": {},
   "outputs": [],
   "source": [
    "model_evaluation_df = pd.DataFrame({'Model':model_name_list, 'Accuracy_Score':accuracy_score_list,\n",
    "                                    'f1_score':f1_score_list, 'Recall_Score':recall_score_list,\n",
    "                                    'Precision_Score': precision_score_list})"
   ]
  },
  {
   "cell_type": "code",
   "execution_count": 8,
   "id": "d59a680e",
   "metadata": {
    "scrolled": true
   },
   "outputs": [
    {
     "data": {
      "text/html": [
       "<div>\n",
       "<style scoped>\n",
       "    .dataframe tbody tr th:only-of-type {\n",
       "        vertical-align: middle;\n",
       "    }\n",
       "\n",
       "    .dataframe tbody tr th {\n",
       "        vertical-align: top;\n",
       "    }\n",
       "\n",
       "    .dataframe thead th {\n",
       "        text-align: right;\n",
       "    }\n",
       "</style>\n",
       "<table border=\"1\" class=\"dataframe\">\n",
       "  <thead>\n",
       "    <tr style=\"text-align: right;\">\n",
       "      <th></th>\n",
       "      <th>Model</th>\n",
       "      <th>Accuracy_Score</th>\n",
       "      <th>f1_score</th>\n",
       "      <th>Recall_Score</th>\n",
       "      <th>Precision_Score</th>\n",
       "    </tr>\n",
       "  </thead>\n",
       "  <tbody>\n",
       "    <tr>\n",
       "      <th>0</th>\n",
       "      <td>LogisticRegression</td>\n",
       "      <td>0.988962</td>\n",
       "      <td>0.988962</td>\n",
       "      <td>0.988962</td>\n",
       "      <td>0.988962</td>\n",
       "    </tr>\n",
       "    <tr>\n",
       "      <th>1</th>\n",
       "      <td>SVC</td>\n",
       "      <td>1.000000</td>\n",
       "      <td>1.000000</td>\n",
       "      <td>1.000000</td>\n",
       "      <td>1.000000</td>\n",
       "    </tr>\n",
       "    <tr>\n",
       "      <th>2</th>\n",
       "      <td>DecisionTreeClassifier</td>\n",
       "      <td>0.980132</td>\n",
       "      <td>0.980132</td>\n",
       "      <td>0.980132</td>\n",
       "      <td>0.980132</td>\n",
       "    </tr>\n",
       "    <tr>\n",
       "      <th>3</th>\n",
       "      <td>RandomForestClassifier</td>\n",
       "      <td>0.993377</td>\n",
       "      <td>0.993377</td>\n",
       "      <td>0.993377</td>\n",
       "      <td>0.993377</td>\n",
       "    </tr>\n",
       "    <tr>\n",
       "      <th>4</th>\n",
       "      <td>GradientBoostingClassifier</td>\n",
       "      <td>0.995585</td>\n",
       "      <td>0.995585</td>\n",
       "      <td>0.995585</td>\n",
       "      <td>0.995585</td>\n",
       "    </tr>\n",
       "    <tr>\n",
       "      <th>5</th>\n",
       "      <td>XGBClassifier</td>\n",
       "      <td>1.000000</td>\n",
       "      <td>1.000000</td>\n",
       "      <td>1.000000</td>\n",
       "      <td>1.000000</td>\n",
       "    </tr>\n",
       "    <tr>\n",
       "      <th>6</th>\n",
       "      <td>AdaBoostClassifier</td>\n",
       "      <td>0.997792</td>\n",
       "      <td>0.997792</td>\n",
       "      <td>0.997792</td>\n",
       "      <td>0.997792</td>\n",
       "    </tr>\n",
       "  </tbody>\n",
       "</table>\n",
       "</div>"
      ],
      "text/plain": [
       "                        Model  Accuracy_Score  f1_score  Recall_Score  \\\n",
       "0          LogisticRegression        0.988962  0.988962      0.988962   \n",
       "1                         SVC        1.000000  1.000000      1.000000   \n",
       "2      DecisionTreeClassifier        0.980132  0.980132      0.980132   \n",
       "3      RandomForestClassifier        0.993377  0.993377      0.993377   \n",
       "4  GradientBoostingClassifier        0.995585  0.995585      0.995585   \n",
       "5               XGBClassifier        1.000000  1.000000      1.000000   \n",
       "6          AdaBoostClassifier        0.997792  0.997792      0.997792   \n",
       "\n",
       "   Precision_Score  \n",
       "0         0.988962  \n",
       "1         1.000000  \n",
       "2         0.980132  \n",
       "3         0.993377  \n",
       "4         0.995585  \n",
       "5         1.000000  \n",
       "6         0.997792  "
      ]
     },
     "execution_count": 8,
     "metadata": {},
     "output_type": "execute_result"
    }
   ],
   "source": [
    "model_evaluation_df"
   ]
  },
  {
   "cell_type": "markdown",
   "id": "ee7b6848",
   "metadata": {},
   "source": [
    "<ul style=\"font-family:Times New Roman;font-size:15px;color:  blueviolet\">\n",
    "<h1>Final Model:</h1> \n",
    "</ul>"
   ]
  },
  {
   "cell_type": "code",
   "execution_count": 9,
   "id": "ef51d30c",
   "metadata": {
    "scrolled": true
   },
   "outputs": [
    {
     "name": "stdout",
     "output_type": "stream",
     "text": [
      "              precision    recall  f1-score   support\n",
      "\n",
      "           0       1.00      0.99      0.99       260\n",
      "           1       0.98      1.00      0.99       193\n",
      "\n",
      "    accuracy                           0.99       453\n",
      "   macro avg       0.99      0.99      0.99       453\n",
      "weighted avg       0.99      0.99      0.99       453\n",
      "\n"
     ]
    }
   ],
   "source": [
    "final_model = RandomForestClassifier(random_state=42)\n",
    "final_model.fit(X_train, y_train)\n",
    "y_pred = final_model.predict(X_test)\n",
    "print(classification_report(y_pred, y_test))"
   ]
  },
  {
   "cell_type": "markdown",
   "id": "22f752ce",
   "metadata": {},
   "source": [
    "<ul style=\"font-family:Times New Roman;font-size:15px;color:  blueviolet\">\n",
    "<h1>Save the Model:</h1> \n",
    "</ul>"
   ]
  },
  {
   "cell_type": "code",
   "execution_count": 10,
   "id": "f64666b2",
   "metadata": {},
   "outputs": [],
   "source": [
    "import pickle\n",
    "\n",
    "try:\n",
    "    pickle_out = open('classifier.pkl', 'wb')\n",
    "    pickle.dump(final_model, pickle_out)\n",
    "finally:\n",
    "    pickle_out.close()"
   ]
  }
 ],
 "metadata": {
  "kernelspec": {
   "display_name": "Python 3",
   "language": "python",
   "name": "python3"
  },
  "language_info": {
   "codemirror_mode": {
    "name": "ipython",
    "version": 3
   },
   "file_extension": ".py",
   "mimetype": "text/x-python",
   "name": "python",
   "nbconvert_exporter": "python",
   "pygments_lexer": "ipython3",
   "version": "3.8.8"
  }
 },
 "nbformat": 4,
 "nbformat_minor": 5
}
